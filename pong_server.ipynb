{
  "cells": [
    {
      "cell_type": "markdown",
      "metadata": {
        "id": "view-in-github",
        "colab_type": "text"
      },
      "source": [
        "<a href=\"https://colab.research.google.com/github/munenedev/Ping-pong/blob/main/pong_server.ipynb\" target=\"_parent\"><img src=\"https://colab.research.google.com/assets/colab-badge.svg\" alt=\"Open In Colab\"/></a>"
      ]
    },
    {
      "cell_type": "code",
      "execution_count": null,
      "metadata": {
        "id": "BWvrtPdVj8g5"
      },
      "outputs": [],
      "source": [
        "import socket"
      ]
    },
    {
      "cell_type": "code",
      "source": [
        "def initiatePongServer():\n",
        "  s=socket.socket() #create socket\n",
        "  print(\"Socket succcesfully created\")\n",
        "\n",
        "  #Server port\n",
        "  port = 7000\n",
        "  s.bind(('',port))\n",
        "\n",
        "  #Start listening to requests\n",
        "  s.listen(5)\n",
        "  print(\"Socket is listening....\")\n",
        "\n",
        "  # Pong server running forever\n",
        "  while True:\n",
        "    #Establish connection with client\n",
        "    connection, address=s.accept()\n",
        "    print('Socket connected to ', address)\n",
        "\n",
        "    # Respond the client with Pong\n",
        "    connection.send(str('Pong').encode())\n",
        "\n",
        "    #Close connection with client\n",
        "    connection.close()"
      ],
      "metadata": {
        "id": "UdvJlcAKn3wF"
      },
      "execution_count": null,
      "outputs": []
    },
    {
      "cell_type": "code",
      "execution_count": null,
      "metadata": {
        "colab": {
          "base_uri": "https://localhost:8080/"
        },
        "id": "WbRWhRsekMLC",
        "outputId": "5ad5ac12-2a24-426c-c5d4-04e98fb49c90"
      },
      "outputs": [
        {
          "metadata": {
            "tags": null
          },
          "name": "stdout",
          "output_type": "stream",
          "text": [
            "Socket succcesfully created\n",
            "Socket is listening....\n"
          ]
        }
      ],
      "source": [
        "# driver function\n",
        "if __name__ == '__main__':\n",
        "\n",
        "  #Trigger Pong server\n",
        "  initiatePongServer()\n"
      ]
    }
  ],
  "metadata": {
    "colab": {
      "collapsed_sections": [],
      "name": "pong_server.ipynb",
      "provenance": [],
      "authorship_tag": "ABX9TyMYckmPwN2aD2ZWMsct3Ity",
      "include_colab_link": true
    },
    "kernelspec": {
      "display_name": "Python 3",
      "name": "python3"
    },
    "language_info": {
      "name": "python"
    }
  },
  "nbformat": 4,
  "nbformat_minor": 0
}