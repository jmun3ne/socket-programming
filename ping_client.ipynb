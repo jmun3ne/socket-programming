{
  "nbformat": 4,
  "nbformat_minor": 0,
  "metadata": {
    "colab": {
      "name": "ping_client.ipynb",
      "provenance": [],
      "collapsed_sections": [],
      "authorship_tag": "ABX9TyMk6L0I2aqC5TkwrfUG12lw",
      "include_colab_link": true
    },
    "kernelspec": {
      "name": "python3",
      "display_name": "Python 3"
    },
    "language_info": {
      "name": "python"
    }
  },
  "cells": [
    {
      "cell_type": "markdown",
      "metadata": {
        "id": "view-in-github",
        "colab_type": "text"
      },
      "source": [
        "<a href=\"https://colab.research.google.com/github/munenedev/Ping-pong/blob/main/ping_client.ipynb\" target=\"_parent\"><img src=\"https://colab.research.google.com/assets/colab-badge.svg\" alt=\"Open In Colab\"/></a>"
      ]
    },
    {
      "cell_type": "code",
      "execution_count": null,
      "metadata": {
        "id": "FB0QSYvRnhax"
      },
      "outputs": [],
      "source": [
        "import socket"
      ]
    },
    {
      "cell_type": "code",
      "source": [
        "# Function to send ping request\n",
        "def sendPing():\n",
        "  s=socket.socket()\n",
        "\n",
        "  # Server port\n",
        "  port = 7000\n",
        "\n",
        "  #connect to server on a local machine\n",
        "  s.connect(('127.0.0.1',port))\n",
        "  #send ping message\n",
        "  s.send(str('Ping').encode())\n",
        "  # Receive response\n",
        "  message=s.recv(1024)\n",
        "  print(message)\n",
        "  s.close()"
      ],
      "metadata": {
        "id": "iM8BBpk0nrZn"
      },
      "execution_count": null,
      "outputs": []
    },
    {
      "cell_type": "code",
      "source": [
        "# Driver Function\n",
        "if __name__ == '__main__':\n",
        "\n",
        "  #Trigger Pong server\n",
        "  sendPing()"
      ],
      "metadata": {
        "id": "kHe1obNzig5R"
      },
      "execution_count": null,
      "outputs": []
    }
  ]
}