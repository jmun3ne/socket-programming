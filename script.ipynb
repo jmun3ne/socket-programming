{
  "nbformat": 4,
  "nbformat_minor": 0,
  "metadata": {
    "colab": {
      "name": "script.ipynb",
      "provenance": [],
      "authorship_tag": "ABX9TyOlfPeht+pCgE5fFO0Y6368",
      "include_colab_link": true
    },
    "kernelspec": {
      "name": "python3",
      "display_name": "Python 3"
    },
    "language_info": {
      "name": "python"
    }
  },
  "cells": [
    {
      "cell_type": "markdown",
      "metadata": {
        "id": "view-in-github",
        "colab_type": "text"
      },
      "source": [
        "<a href=\"https://colab.research.google.com/github/johnmunene/Cristians-Algorithm-Server/blob/main/script.ipynb\" target=\"_parent\"><img src=\"https://colab.research.google.com/assets/colab-badge.svg\" alt=\"Open In Colab\"/></a>"
      ]
    },
    {
      "cell_type": "code",
      "execution_count": null,
      "metadata": {
        "id": "1PbcR2dVYg9C"
      },
      "outputs": [],
      "source": [
        "import socket\n",
        "import datetime\n",
        "from dateutil import parser\n",
        "from timeit import default_timer as timer\n",
        "\n",
        "# function used to synchronize client process time\n",
        "def synchronizeTime():\n",
        "\n",
        "  s=socket.socket()\n",
        "\n",
        "  # Server port\n",
        "  port=8000\n",
        "\n",
        "  # Connect to the clock server on a local computer\n",
        "  s.connect(('127.0.0.1',port))\n",
        "\n",
        "  request_time=timer()\n",
        "\n",
        "  # Receive data from the server\n",
        "  server_time=parser.parse(s.recv(1024).encode())\n",
        "  response_time=timer()\n",
        "  actual_time=datetime.datetime.now()\n",
        "\n",
        "  print(\"Time returned by server: \"+str(server_time))\n",
        "\n",
        "  process_delay_latency=response_time-request_time\n",
        "\n",
        "  print(\"Process delay latency: \" + str( process_delay_latency) + \"seconds\") \n",
        "\n",
        "  print(\"Actual clock time at client side: \"+ str(actual_time))\n",
        "\n",
        "  # Synchronize process client clock time\n",
        "  client_time=server_time + datetime.timedelta(seconds=(process_delay_latency)/2)\n",
        "\n",
        "  print(\"Synchronized process client time: \" + str(client_time))\n",
        "\n",
        "  # Calculate synchronization error\n",
        "  error=actual_time - client_time\n",
        "  \n",
        "  print(\"Synchronization error: \" + str(error.totalseconds()) + \"seconds\")\n",
        "\n",
        "  s.close()\n",
        "\n",
        "  # Driver function\n",
        "\n",
        "#if __name__ == '__main__':\n",
        "\n",
        "  # Synchronize time using clock server\n",
        "#  synchronizeTime()\n",
        "\n",
        "\n",
        "\n",
        "\n"
      ]
    }
  ]
}